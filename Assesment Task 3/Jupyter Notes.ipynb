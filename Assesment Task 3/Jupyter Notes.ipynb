{
 "cells": [
  {
   "cell_type": "code",
   "execution_count": null,
   "metadata": {},
   "outputs": [],
   "source": [
    "# Assesment Task 3\n",
    "## Wicked Problems ##\n",
    "#### Supermarkets in Australia are taking advantage of inflation to overcharge on necessary goods ####\n",
    "#### \n",
    "\n"
   ]
  }
 ],
 "metadata": {
  "language_info": {
   "name": "python"
  },
  "orig_nbformat": 4
 },
 "nbformat": 4,
 "nbformat_minor": 2
}
